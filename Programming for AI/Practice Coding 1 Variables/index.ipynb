{
 "cells": [
  {
   "cell_type": "markdown",
   "metadata": {},
   "source": [
    "### Task 1"
   ]
  },
  {
   "cell_type": "code",
   "execution_count": 6,
   "metadata": {},
   "outputs": [
    {
     "name": "stdout",
     "output_type": "stream",
     "text": [
      "My name is Quan, I am 23 years old, and I live in Finland.\n"
     ]
    }
   ],
   "source": [
    "name = \"Quan\"  \n",
    "age = 23  \n",
    "place = \"Finland\"  \n",
    "\n",
    "print(f\"My name is {name}, I am {age} years old, and I live in {place}.\")"
   ]
  },
  {
   "cell_type": "markdown",
   "metadata": {},
   "source": [
    "### Task 2"
   ]
  },
  {
   "cell_type": "code",
   "execution_count": 7,
   "metadata": {},
   "outputs": [
    {
     "name": "stdout",
     "output_type": "stream",
     "text": [
      "Hello, my name is Quan\n",
      "I was born in 2001.\n"
     ]
    }
   ],
   "source": [
    "greeting = \"Hello, my name is \"\n",
    "personalized_greeting = greeting + name\n",
    "\n",
    "print(personalized_greeting)\n",
    "\n",
    "birth_year = 2024 - age\n",
    "print(f\"I was born in {birth_year}.\")"
   ]
  },
  {
   "cell_type": "markdown",
   "metadata": {},
   "source": [
    "### Task 3"
   ]
  },
  {
   "cell_type": "code",
   "execution_count": 8,
   "metadata": {},
   "outputs": [
    {
     "name": "stdout",
     "output_type": "stream",
     "text": [
      "If you were born in 1990, you would be 23 years old in 2024.\n"
     ]
    }
   ],
   "source": [
    "current_year = 2024\n",
    "age_1990 = current_year - 2001 \n",
    "\n",
    "print(f\"If you were born in 1990, you would be {age_1990} years old in {current_year}.\")"
   ]
  },
  {
   "cell_type": "markdown",
   "metadata": {},
   "source": [
    "### Task 4"
   ]
  },
  {
   "cell_type": "code",
   "execution_count": 9,
   "metadata": {},
   "outputs": [
    {
     "name": "stdout",
     "output_type": "stream",
     "text": [
      "Quan, a 23-year-old Frontend Developer from Finland, loves coding.\n"
     ]
    }
   ],
   "source": [
    "title = \"Frontend Developer\" \n",
    "\n",
    "print(f\"{name}, a {age}-year-old {title} from {place}, loves coding.\")"
   ]
  },
  {
   "cell_type": "markdown",
   "metadata": {},
   "source": [
    "### Task 5"
   ]
  },
  {
   "cell_type": "code",
   "execution_count": 10,
   "metadata": {},
   "outputs": [
    {
     "name": "stdout",
     "output_type": "stream",
     "text": [
      "The temperature in Fahrenheit is 77.0 degrees.\n"
     ]
    }
   ],
   "source": [
    "temperature_celsius = 25\n",
    "\n",
    "temperature_fahrenheit = (temperature_celsius * 9/5) + 32\n",
    "\n",
    "print(f\"The temperature in Fahrenheit is {temperature_fahrenheit:.1f} degrees.\")"
   ]
  }
 ],
 "metadata": {
  "kernelspec": {
   "display_name": ".venv",
   "language": "python",
   "name": "python3"
  },
  "language_info": {
   "codemirror_mode": {
    "name": "ipython",
    "version": 3
   },
   "file_extension": ".py",
   "mimetype": "text/x-python",
   "name": "python",
   "nbconvert_exporter": "python",
   "pygments_lexer": "ipython3",
   "version": "3.10.11"
  }
 },
 "nbformat": 4,
 "nbformat_minor": 2
}
