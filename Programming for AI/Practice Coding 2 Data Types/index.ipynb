{
 "cells": [
  {
   "cell_type": "markdown",
   "metadata": {},
   "source": [
    "### Task 1"
   ]
  },
  {
   "cell_type": "code",
   "execution_count": null,
   "metadata": {},
   "outputs": [],
   "source": [
    "num_str = \"123\"           \n",
    "num_int = int(num_str)      \n",
    "num_float = float(num_int) \n",
    "\n",
    "print(type(num_str))\n",
    "print(type(num_int))\n",
    "print(type(num_float))"
   ]
  },
  {
   "cell_type": "markdown",
   "metadata": {},
   "source": [
    "### Task 2"
   ]
  },
  {
   "cell_type": "code",
   "execution_count": null,
   "metadata": {},
   "outputs": [],
   "source": [
    "is_student = True         \n",
    "is_graduate = False       \n",
    "\n",
    "print(f\"Student status: {is_student}, Graduate status: {is_graduate}\")"
   ]
  },
  {
   "cell_type": "markdown",
   "metadata": {},
   "source": [
    "### Task 3"
   ]
  },
  {
   "cell_type": "code",
   "execution_count": null,
   "metadata": {},
   "outputs": [],
   "source": [
    "fruits = [\"apple\", \"banana\", \"cherry\"] \n",
    "\n",
    "print(f\"First fruit: {fruits[0]}\")\n",
    "print(f\"Last fruit: {fruits[-1]}\")\n",
    "\n",
    "fruits.append(\"mango\")\n",
    "print(f\"Updated fruits list: {fruits}\")"
   ]
  },
  {
   "cell_type": "markdown",
   "metadata": {},
   "source": [
    "### Task 4"
   ]
  },
  {
   "cell_type": "code",
   "execution_count": null,
   "metadata": {},
   "outputs": [],
   "source": [
    "coordinates = (40.7128, -74.0060, 15)\n",
    "\n",
    "print(f\"Latitude: {coordinates[0]}\")\n",
    "print(f\"Altitude: {coordinates[2]}\")\n",
    "\n",
    "# coordinates[1] = -73.935242"
   ]
  },
  {
   "cell_type": "code",
   "execution_count": null,
   "metadata": {},
   "outputs": [],
   "source": [
    "coordinates = (40.7128, -74.0060, 15)  # Step 1: Create the tuple\n",
    "\n",
    "print(f\"Latitude: {coordinates[0]}\")\n",
    "print(f\"Altitude: {coordinates[2]}\")\n",
    "\n",
    "coordinates[1] = -73.935242"
   ]
  },
  {
   "cell_type": "markdown",
   "metadata": {},
   "source": [
    "### Task 5"
   ]
  },
  {
   "cell_type": "code",
   "execution_count": null,
   "metadata": {},
   "outputs": [],
   "source": [
    "student_info = {\n",
    "    \"name\": \"Alice\",\n",
    "    \"age\": 23,\n",
    "    \"major\": \"Computer Science\"\n",
    "}\n",
    "\n",
    "print(f\"Name: {student_info['name']}\")\n",
    "print(f\"Major: {student_info['major']}\")\n",
    "\n",
    "student_info[\"graduated\"] = False\n",
    "print(f\"Updated student info: {student_info}\")"
   ]
  }
 ],
 "metadata": {
  "language_info": {
   "name": "python"
  }
 },
 "nbformat": 4,
 "nbformat_minor": 2
}
